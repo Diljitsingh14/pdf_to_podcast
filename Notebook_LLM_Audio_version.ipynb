{
  "nbformat": 4,
  "nbformat_minor": 0,
  "metadata": {
    "colab": {
      "provenance": [],
      "gpuType": "T4"
    },
    "kernelspec": {
      "name": "python3",
      "display_name": "Python 3"
    },
    "language_info": {
      "name": "python"
    },
    "accelerator": "GPU"
  },
  "cells": [
    {
      "cell_type": "markdown",
      "source": [
        "# PDF to Podcast: A Step-by-Step Guide using AI\n",
        "\n",
        "This notebook provides a comprehensive guide to converting a PDF document into a podcast using AI-powered tools.\n",
        "\n",
        "## Overview\n",
        "\n",
        "We'll follow these steps:\n",
        "\n",
        "1. **Load and Preprocess PDF:** Extract text, create chunks, and prepare for processing.\n",
        "2. **Clean and Summarize Chunks:** Refine extracted text using the Llama model with custom prompts.\n",
        "3. **Generate Podcast Script:** Craft a dialogue between two speakers based on the processed data.\n",
        "4. **Make Script Dramatic:** Add impressions and enhance the engagement of the script.\n",
        "5. **Convert Script to Audio:** Use text-to-speech models (Parler-TTS, Bark) to generate audio.\n",
        "\n",
        "\n",
        "## 1. Load and Preprocess PDF\n",
        "\n",
        "- **Install necessary libraries:** PyPDF2, tqdm\n",
        "- **Extract text from PDF:** Using PyPDF2, extract the raw text from the input PDF file.\n",
        "- **Create chunks:** Divide the extracted text into smaller chunks for easier processing.\n",
        "- **Example:**"
      ],
      "metadata": {
        "id": "pDU8RxibsEZu"
      }
    },
    {
      "cell_type": "code",
      "source": [
        "!pip install git+https://github.com/huggingface/parler-tts.git\n",
        "!pip install git+https://github.com/suno-ai/bark.git\n",
        "\n",
        "!pip install PyPDF2\n",
        "!pip install rich ipywidgets\n",
        "!pip install accelerate\n",
        "!pip install pyhub\n",
        "# !pip uninstall transformers\n",
        "# !pip install git+https://github.com/huggingface/transformers@f742a644ca32e65758c3adb36225aef1731bd2a8\n"
      ],
      "metadata": {
        "id": "7Zxvjic_yezi"
      },
      "execution_count": null,
      "outputs": []
    },
    {
      "cell_type": "code",
      "source": [
        "!pip install transformers>=4.28"
      ],
      "metadata": {
        "id": "O-zxUY3hIpE3"
      },
      "execution_count": null,
      "outputs": []
    },
    {
      "cell_type": "markdown",
      "source": [
        "<pre>\n",
        "# Core dependencies\n",
        "PyPDF2>=3.0.0\n",
        "torch>=2.0.0\n",
        "transformers>=4.46.0\n",
        "accelerate>=0.27.0\n",
        "rich>=13.0.0\n",
        "ipywidgets>=8.0.0\n",
        "tqdm>=4.66.0\n",
        "\n",
        "# Optional but recommended\n",
        "jupyter>=1.0.0\n",
        "ipykernel>=6.0.0\n",
        "\n",
        "# Warning handling\n",
        "warnings>=0.1.0\n",
        "</pre>"
      ],
      "metadata": {
        "id": "T8WHc0gl4iIj"
      }
    },
    {
      "cell_type": "code",
      "source": [
        "# leave it\n",
        "!pip install -r requirements.txt"
      ],
      "metadata": {
        "id": "95bhpSon4hak"
      },
      "execution_count": null,
      "outputs": []
    },
    {
      "cell_type": "markdown",
      "source": [
        "#### Parler-TTS \"Hello World!\""
      ],
      "metadata": {
        "id": "z3zd9FQC0TYB"
      }
    },
    {
      "cell_type": "code",
      "source": [
        "import torch\n",
        "from parler_tts import ParlerTTSForConditionalGeneration\n",
        "from transformers import AutoTokenizer\n",
        "import soundfile as sf\n",
        "from IPython.display import Audio\n",
        "\n",
        "\n",
        "device = \"cuda:0\" if torch.cuda.is_available() else \"cpu\"\n",
        "model = ParlerTTSForConditionalGeneration.from_pretrained(\"parler-tts/parler-tts-mini-v1\").to(device)\n",
        "tokenizer = AutoTokenizer.from_pretrained(\"parler-tts/parler-tts-mini-v1\")\n",
        "\n",
        "prompt = \"Hey, how are you doing today?\"\n",
        "description = \"A female speaker delivers a slightly expressive and animated speech with a moderate speed and pitch. The recording is of very high quality, with the speaker's voice sounding clear and very close up.\"\n",
        "\n",
        "input_ids = tokenizer(description, return_tensors=\"pt\").input_ids.to(device)\n",
        "prompt_input_ids = tokenizer(prompt, return_tensors=\"pt\").input_ids.to(device)\n",
        "\n",
        "generation = model.generate(input_ids=input_ids, prompt_input_ids=prompt_input_ids)\n",
        "audio_arr = generation.cpu().numpy().squeeze()\n",
        "sf.write(\"parler_tts_out.wav\", audio_arr, model.config.sampling_rate)\n",
        "\n",
        "Audio(\"parler_tts_out.wav\")"
      ],
      "metadata": {
        "id": "tgyj6ce_y6C8",
        "collapsed": true
      },
      "execution_count": null,
      "outputs": []
    },
    {
      "cell_type": "markdown",
      "source": [
        "### Bark ⁉\n",
        "Hyper-parameters:\n",
        "Bark models have two parameters we can tweak: temperature and semantic_temperature\n",
        "\n",
        "Below are the notes from a sweep, prompt and speaker were fixed and this was a vibe test to see which gives best results. temperature and semantic_temperature respectively below:\n",
        "\n",
        "First, fix temperature and sweep semantic_temperature\n",
        "\n",
        "<li>0.7, 0.2: Quite bland and boring </li>\n",
        "<li>0.7, 0.3: An improvement over the previous one</li>\n",
        "<li>0.7, 0.4: Further improvement</li>\n",
        "<li>0.7, 0.5: This one didn't work</li>\n",
        "<li>0.7, 0.6: So-So, didn't stand out</li>\n",
        "<li>0.7, 0.7: The best so far</li>\n",
        "<li>0.7, 0.8: Further improvement</li>\n",
        "<li>0.7, 0.9: Mix feelings on this one</li>\n",
        "\n",
        "### Now sweeping the temperature\n",
        "\n",
        "<li>0.1, 0.9: Very Robotic</li>\n",
        "<li>0.2, 0.9: Less Robotic but not convincing</li>\n",
        "<li>0.3, 0.9: Slight improvement still not fun</li>\n",
        "<li>0.4, 0.9: Still has a robotic tinge</li>\n",
        "<li>0.5, 0.9: The laugh was weird on this one but the voice modulates so much it feels speaker is changing</li>\n",
        "<li>0.6, 0.9: Most consistent voice but has a robotic after-taste</li>\n",
        "<li>0.7, 0.9: Very robotic and laugh was weird</li>\n",
        "<li>0.8, 0.9: Completely ignore the laughter but it was more natural</li>\n",
        "<li>0.9, 0.9: We have a winner probably</li>\n",
        "After this about ~30 more sweeps were done with the promising\n",
        "\n",
        "### combinations:\n",
        "\n",
        " <pre>Best results are at speech_output = model.generate(**inputs,  temperature = 0.9, semantic_temperature = 0.8) Audio(speech_output[0].cpu().numpy(), rate=sampling_rate)</pre>"
      ],
      "metadata": {
        "id": "kMyIq6O91EFS"
      }
    },
    {
      "cell_type": "code",
      "source": [
        "from transformers import AutoProcessor, BarkModel\n",
        "from IPython.display import Audio\n",
        "\n",
        "processor = AutoProcessor.from_pretrained(\"suno/bark\")\n",
        "model = BarkModel.from_pretrained(\"suno/bark\").to(device) # Move the model to the device\n",
        "\n",
        "voice_preset = \"v2/en_speaker_6\"\n",
        "\n",
        "text_prompt = \"\"\"\n",
        "Exactly! [sigh] And the distillation part is where you take a LARGE-model,and compress-it down into a smaller, more efficient model that can run on devices with limited resources.\n",
        "\"\"\"\n",
        "inputs = processor(text_prompt, voice_preset=voice_preset).to(device)\n",
        "\n",
        "speech_output = model.generate(**inputs, temperature = 0.9, semantic_temperature = 0.8)\n",
        "\n",
        "# Get the sampling rate from the model config\n",
        "sample_rate = model.generation_config.sample_rate\n",
        "\n",
        "Audio(speech_output[0].cpu().numpy(), rate=sample_rate)"
      ],
      "metadata": {
        "id": "mkIxDc0y0SYJ"
      },
      "execution_count": null,
      "outputs": []
    },
    {
      "cell_type": "code",
      "source": [
        "# Huggging face token if you are using LLama model on colab\n",
        "\n",
        "from huggingface_hub import login\n",
        "from google.colab import userdata\n",
        "\n",
        "\n",
        "login(token=userdata.get('hf'))"
      ],
      "metadata": {
        "id": "gamqldERskOc"
      },
      "execution_count": null,
      "outputs": []
    },
    {
      "cell_type": "markdown",
      "source": [
        "#### Step 1: Preprocess PDF"
      ],
      "metadata": {
        "id": "D-9RwoY55crY"
      }
    },
    {
      "cell_type": "code",
      "source": [
        "import PyPDF2\n",
        "from typing import Optional\n",
        "import os\n",
        "import torch\n",
        "from accelerate import Accelerator\n",
        "from transformers import AutoModelForCausalLM, AutoTokenizer\n",
        "# import soundfile as sf\n",
        "\n",
        "# from transformers import Qwen2_5OmniModel, Qwen2_5OmniProcessor\n",
        "# from qwen_omni_utils import process_mm_info\n",
        "\n",
        "from tqdm.notebook import tqdm\n",
        "import warnings\n",
        "\n",
        "warnings.filterwarnings('ignore')"
      ],
      "metadata": {
        "id": "9XeWQiMS5RgB"
      },
      "execution_count": null,
      "outputs": []
    },
    {
      "cell_type": "code",
      "source": [
        "# pdf_path = \"/content/chankya in daily life.pdf\"\n",
        "pdf_path = \"/content/2402.13116v4.pdf\"\n",
        "# DEFAULT_MODEL = \"meta-llama/Llama-3.2-1B-Instruct\"\n",
        "# DEFAULT_MODEL= \"Qwen/Qwen2.5-Omni-7B\"\n"
      ],
      "metadata": {
        "id": "s_uwcP7d6P0b"
      },
      "execution_count": null,
      "outputs": []
    },
    {
      "cell_type": "code",
      "source": [
        "def validate_pdf(file_path:str):\n",
        "  if not os.path.exists(file_path):\n",
        "    print(f\"Error: File not found at path : {file_path}\")\n",
        "    return\n",
        "  if not file_path.endswith(\".pdf\"):\n",
        "    print(f\"Error: File is not a PDF : {file_path}\")\n",
        "    return\n",
        "  return True"
      ],
      "metadata": {
        "id": "unPzp-UO6WbT"
      },
      "execution_count": null,
      "outputs": []
    },
    {
      "cell_type": "code",
      "source": [
        "def extract_text_from_pdf(file_path:str,max_chars: int = 100000,start_from_page:int=1):\n",
        "  if not validate_pdf(file_path):\n",
        "    return\n",
        "\n",
        "  try:\n",
        "    with open(file_path, 'rb') as file:\n",
        "      pdf_reader = PyPDF2.PdfReader(file)\n",
        "\n",
        "      num_pages = len(pdf_reader.pages)\n",
        "      print(f\"Number of pages in the PDF: {num_pages}\")\n",
        "\n",
        "      exracted_text = []\n",
        "      total_char = 0\n",
        "      for page_num in range(start_from_page-1,num_pages):\n",
        "        page = pdf_reader.pages[page_num]\n",
        "        text = page.extract_text()\n",
        "\n",
        "        if total_char + len(text) > max_chars:\n",
        "          print(f\"Reached {max_chars} character limit at page {page_num+1}\")\n",
        "          break\n",
        "        total_char += len(text)\n",
        "        exracted_text.append(text)\n",
        "        print(f\"Processed page {page_num + 1}/{num_pages}\")\n",
        "\n",
        "      final_text = '\\n'.join(exracted_text)\n",
        "      print(f\"\\nExtraction complete! Total characters: {len(final_text)}\")\n",
        "      return final_text\n",
        "\n",
        "  except PyPDF2.PdfReadError:\n",
        "      print(\"Error: Invalid or corrupted PDF file\")\n",
        "      return None\n",
        "  except Exception as e:\n",
        "        print(f\"An unexpected error occurred: {str(e)}\")\n",
        "        return None"
      ],
      "metadata": {
        "id": "rcHFFx2h6v_q"
      },
      "execution_count": null,
      "outputs": []
    },
    {
      "cell_type": "code",
      "source": [
        "extract_text_from_pdf(pdf_path,100000)"
      ],
      "metadata": {
        "id": "ihauz20K9cy6"
      },
      "execution_count": null,
      "outputs": []
    },
    {
      "cell_type": "code",
      "source": [
        "def get_pdf_metadata(file_path:str):\n",
        "  if(validate_pdf(file_path)):\n",
        "    with open(file_path, 'rb') as file:\n",
        "      pdf_reader = PyPDF2.PdfReader(file)\n",
        "      return {\n",
        "          \"num_pages\": len(pdf_reader.pages),\n",
        "          \"metadata\": pdf_reader.metadata\n",
        "      }\n",
        "  return None"
      ],
      "metadata": {
        "id": "_3RuUblf9nDh"
      },
      "execution_count": null,
      "outputs": []
    },
    {
      "cell_type": "code",
      "source": [
        "# Extract metadata first\n",
        "print(\"Extracting metadata...\")\n",
        "metadata = get_pdf_metadata(pdf_path)\n",
        "if metadata:\n",
        "    print(\"\\nPDF Metadata:\")\n",
        "    print(f\"Number of pages: {metadata['num_pages']}\")\n",
        "    print(\"Document info:\")\n",
        "    for key, value in metadata['metadata'].items():\n",
        "        print(f\"{key}: {value}\")\n",
        "\n",
        "# Extract text\n",
        "print(\"\\nExtracting text...\")\n",
        "extracted_text = extract_text_from_pdf(pdf_path)\n",
        "\n",
        "\n",
        "# Display first 500 characters of extracted text as preview\n",
        "if extracted_text:\n",
        "    print(\"\\nPreview of extracted text (first 500 characters):\")\n",
        "    print(\"-\" * 50)\n",
        "    print(extracted_text[:500])\n",
        "    print(\"-\" * 50)\n",
        "    print(f\"\\nTotal characters extracted: {len(extracted_text)}\")\n",
        "\n",
        "# Optional: Save the extracted text to a file\n",
        "if extracted_text:\n",
        "    output_file = 'extracted_text.txt'\n",
        "    with open(output_file, 'w', encoding='utf-8') as f:\n",
        "        f.write(extracted_text)\n",
        "    print(f\"\\nExtracted text has been saved to {output_file}\")"
      ],
      "metadata": {
        "id": "VTxlSnrLrGEq"
      },
      "execution_count": null,
      "outputs": []
    },
    {
      "cell_type": "markdown",
      "source": [
        "#### PROMPTS"
      ],
      "metadata": {
        "id": "DS8VDil9g3vO"
      }
    },
    {
      "cell_type": "code",
      "source": [
        "SYS_PROMPT_TO_PRE_PROCESS_CHUNKS = \"\"\"\n",
        "You are a world class text pre-processor, here is the raw data from a PDF, please parse and return it in a way that is crispy and usable to send to a podcast writer.\n",
        "\n",
        "The raw data is messed up with new lines, Latex math and you will see fluff that we can remove completely. Basically take away any details that you think might be useless in a podcast author's transcript.\n",
        "\n",
        "Remember, the podcast could be on any topic whatsoever so the issues listed above are not exhaustive\n",
        "\n",
        "Please be smart with what you remove and be creative ok?\n",
        "\n",
        "Remember DO NOT START SUMMARIZING THIS, YOU ARE ONLY CLEANING UP THE TEXT AND RE-WRITING WHEN NEEDED\n",
        "\n",
        "Be very smart and aggressive with removing details, you will get a running portion of the text and keep returning the processed text.\n",
        "\n",
        "PLEASE DO NOT ADD MARKDOWN FORMATTING, STOP ADDING SPECIAL CHARACTERS THAT MARKDOWN CAPATILISATION ETC LIKES\n",
        "\n",
        "ALWAYS start your response directly with processed text and NO ACKNOWLEDGEMENTS about my questions ok?\n",
        "Here is the text:\n",
        "\"\"\"\n",
        "\n",
        "\n",
        "SYSTEM_PROMPT_WRITE_SCRIPT = \"\"\"\n",
        "You are the a world-class podcast writer, you have worked as a ghost writer for Joe Rogan, Lex Fridman, Ben Shapiro, Tim Ferris.\n",
        "\n",
        "We are in an alternate universe where actually you have been writing every line they say and they just stream it into their brains.\n",
        "\n",
        "You have won multiple podcast awards for your writing.\n",
        "\n",
        "Your job is to write word by word, even \"umm, hmmm, right\" interruptions by the second speaker based on the PDF upload. Keep it extremely engaging, the speakers can get derailed now and then but should discuss the topic.\n",
        "\n",
        "Remember Speaker 2 is new to the topic and the conversation should always have realistic anecdotes and analogies sprinkled throughout. The questions should have real world example follow ups etc\n",
        "\n",
        "Speaker 1: Leads the conversation and teaches the speaker 2, gives incredible anecdotes and analogies when explaining. Is a captivating teacher that gives great anecdotes\n",
        "\n",
        "Speaker 2: Keeps the conversation on track by asking follow up questions. Gets super excited or confused when asking questions. Is a curious mindset that asks very interesting confirmation questions\n",
        "\n",
        "Make sure the tangents speaker 2 provides are quite wild or interesting.\n",
        "\n",
        "Ensure there are interruptions during explanations or there are \"hmm\" and \"umm\" injected throughout from the second speaker.\n",
        "\n",
        "It should be a real podcast with every fine nuance documented in as much detail as possible. Welcome the listeners with a super fun overview and keep it really catchy and almost borderline click bait\n",
        "\n",
        "ALWAYS START YOUR RESPONSE DIRECTLY WITH SPEAKER 1:\n",
        "DO NOT GIVE EPISODE TITLES SEPARATELY, LET SPEAKER 1 TITLE IT IN HER SPEECH\n",
        "DO NOT GIVE CHAPTER TITLES\n",
        "IT SHOULD STRICTLY BE THE DIALOGUES\n",
        "\"\"\"\n",
        "\n",
        "\n",
        "SYSTEM_PROMPT_FOR_CREATIVE_TRANSCRIPT = \"\"\"\n",
        "You are an international oscar winnning screenwriter\n",
        "\n",
        "You have been working with multiple award winning podcasters.\n",
        "\n",
        "Your job is to use the podcast transcript written below to re-write it for an AI Text-To-Speech Pipeline. A very dumb AI had written this so you have to step up for your kind.\n",
        "\n",
        "Make it as engaging as possible, Speaker 1 and 2 will be simulated by different voice engines\n",
        "\n",
        "Remember Speaker 2 is new to the topic and the conversation should always have realistic anecdotes and analogies sprinkled throughout. The questions should have real world example follow ups etc\n",
        "\n",
        "Speaker 1: Leads the conversation and teaches the speaker 2, gives incredible anecdotes and analogies when explaining. Is a captivating teacher that gives great anecdotes\n",
        "\n",
        "Speaker 2: Keeps the conversation on track by asking follow up questions. Gets super excited or confused when asking questions. Is a curious mindset that asks very interesting confirmation questions\n",
        "\n",
        "Make sure the tangents speaker 2 provides are quite wild or interesting.\n",
        "\n",
        "Ensure there are interruptions during explanations or there are \"hmm\" and \"umm\" injected throughout from the Speaker 2.\n",
        "\n",
        "REMEMBER THIS WITH YOUR HEART\n",
        "The TTS Engine for Speaker 1 cannot do \"umms, hmms\" well so keep it straight text\n",
        "\n",
        "For Speaker 2 use \"umm, hmm\" as much, you can also use [sigh] and [laughs]. BUT ONLY THESE OPTIONS FOR EXPRESSIONS\n",
        "\n",
        "It should be a real podcast with every fine nuance documented in as much detail as possible. Welcome the listeners with a super fun overview and keep it really catchy and almost borderline click bait\n",
        "\n",
        "Please re-write to make it as characteristic as possible\n",
        "\n",
        "START YOUR RESPONSE DIRECTLY WITH SPEAKER 1:\n",
        "\n",
        "STRICTLY RETURN YOUR RESPONSE AS A LIST OF TUPLES OK?\n",
        "\n",
        "IT WILL START DIRECTLY WITH THE LIST AND END WITH THE LIST NOTHING ELSE\n",
        "\n",
        "Example of response:\n",
        "[\n",
        "    (\"Speaker 1\", \"Welcome to our podcast, where we explore the latest advancements in AI and technology. I'm your host, and today we're joined by a renowned expert in the field of AI. We're going to dive into the exciting world of Llama 3.2, the latest release from Meta AI.\"),\n",
        "    (\"Speaker 2\", \"Hi, I'm excited to be here! So, what is Llama 3.2?\"),\n",
        "    (\"Speaker 1\", \"Ah, great question! Llama 3.2 is an open-source AI model that allows developers to fine-tune, distill, and deploy AI models anywhere. It's a significant update from the previous version, with improved performance, efficiency, and customization options.\"),\n",
        "    (\"Speaker 2\", \"That sounds amazing! What are some of the key features of Llama 3.2?\")\n",
        "]\n",
        "\"\"\"\n"
      ],
      "metadata": {
        "id": "iAZILjgIg38m"
      },
      "execution_count": null,
      "outputs": []
    },
    {
      "cell_type": "markdown",
      "source": [
        "### Llama Pre-Processing\n",
        "\n",
        "<p>Now let's proceed to justify our distaste for writing regex and use that as a justification for a LLM instead:\n",
        "\n",
        "At this point, have a text file extracted from a PDF of a paper. Generally PDF extracts can be messy due to characters, formatting, Latex, Tables, etc.\n",
        "\n",
        "One way to handle this would be using regex, instead we can also prompt the feather light Llama models to clean up our text for us.\n",
        "\n",
        "Please try changing the SYS_PROMPT below to see what improvements you can make\n",
        "</p>"
      ],
      "metadata": {
        "id": "GAV9JWTorvS5"
      }
    },
    {
      "cell_type": "code",
      "source": [
        "def create_word_bounded_chunks(text, target_chunk_size):\n",
        "    \"\"\"\n",
        "    Split text into chunks at word boundaries close to the target chunk size.\n",
        "    \"\"\"\n",
        "    words = text.split()\n",
        "    chunks = []\n",
        "    current_chunk = []\n",
        "    current_length = 0\n",
        "\n",
        "    for word in words:\n",
        "        word_length = len(word) + 1  # +1 for the space\n",
        "        if current_length + word_length > target_chunk_size and current_chunk:\n",
        "            # Join the current chunk and add it to chunks\n",
        "            chunks.append(' '.join(current_chunk))\n",
        "            current_chunk = [word]\n",
        "            current_length = word_length\n",
        "        else:\n",
        "            current_chunk.append(word)\n",
        "            current_length += word_length\n",
        "\n",
        "    # Add the last chunk if it exists\n",
        "    if current_chunk:\n",
        "        chunks.append(' '.join(current_chunk))\n",
        "\n",
        "    return chunks"
      ],
      "metadata": {
        "id": "K-oVm8XhsDGw"
      },
      "execution_count": null,
      "outputs": []
    },
    {
      "cell_type": "markdown",
      "source": [
        "Loading Saved extracted"
      ],
      "metadata": {
        "id": "WejPrj3PdCl1"
      }
    },
    {
      "cell_type": "code",
      "source": [
        "extracted_pdf_text = \"/content/extracted_text.txt\"  # Replace with your file path\n",
        "CHUNK_SIZE = 1000  # Adjust chunk size if needed\n",
        "\n",
        "# Read the file\n",
        "with open(extracted_pdf_text, 'r', encoding='utf-8') as file:\n",
        "    text = file.read()\n",
        "\n",
        "# Calculate number of chunks\n",
        "num_chunks = (len(text) + CHUNK_SIZE - 1) // CHUNK_SIZE\n",
        "print(f\"Chunks:{num_chunks}\")"
      ],
      "metadata": {
        "id": "EYukJ1midIwv"
      },
      "execution_count": null,
      "outputs": []
    },
    {
      "cell_type": "code",
      "source": [
        "# Create output file name\n",
        "output_file = f\"clean_{os.path.basename(INPUT_FILE)}\"\n",
        "\n",
        "chunks = create_word_bounded_chunks(text, CHUNK_SIZE)\n",
        "num_chunks = len(chunks)"
      ],
      "metadata": {
        "id": "91tbStu8vkvw"
      },
      "execution_count": null,
      "outputs": []
    },
    {
      "cell_type": "markdown",
      "source": [
        "##### There are 2 way to run the model to generate:\n",
        "1. Local or in the cloud limit memory like colab.\n",
        "2. 3th party integration (free) like Anthropy or Groq or Gemini."
      ],
      "metadata": {
        "id": "Kqo0OYT_agxm"
      }
    },
    {
      "cell_type": "code",
      "source": [
        "## remember to define Model and tokenizer\n",
        "\n",
        "def process_chunk_llm_local(text_chunk, chunk_num):\n",
        "    \"\"\"Process a chunk of text and return both input and output for verification\"\"\"\n",
        "    conversation = [\n",
        "        {\"role\": \"system\", \"content\": SYS_PROMPT},\n",
        "        {\"role\": \"user\", \"content\": text_chunk},\n",
        "    ]\n",
        "\n",
        "    prompt = tokenizer.apply_chat_template(conversation, tokenize=False)\n",
        "    inputs = tokenizer(prompt, return_tensors=\"pt\").to(device)\n",
        "\n",
        "    with torch.no_grad():\n",
        "        output = model.generate(\n",
        "            **inputs,\n",
        "            temperature=0.5,\n",
        "            top_p=0.6,\n",
        "            max_new_tokens=512,\n",
        "\n",
        "        )\n",
        "\n",
        "    processed_text = tokenizer.decode(output[0], skip_special_tokens=True)[len(prompt):].strip()\n",
        "\n",
        "    # Print chunk information for monitoring\n",
        "    print(f\"\\n{'='*40} Chunk {chunk_num} {'='*40}\")\n",
        "    print(f\"INPUT TEXT:\\n{text_chunk[:500]}...\")  # Show first 500 chars of input\n",
        "    print(f\"\\nPROCESSED TEXT:\\n{processed_text[:500]}...\")  # Show first 500 chars of output\n",
        "    print(f\"{'='*90}\\n\")\n",
        "\n",
        "    return processed_text"
      ],
      "metadata": {
        "id": "QSVdOXb4s3Ow"
      },
      "execution_count": null,
      "outputs": []
    },
    {
      "cell_type": "code",
      "source": [
        "chunks[0]"
      ],
      "metadata": {
        "id": "jzo-y4IPBZ-s"
      },
      "execution_count": null,
      "outputs": []
    },
    {
      "cell_type": "code",
      "source": [
        "processed_text = \"\"\n",
        "with open(output_file, 'w', encoding='utf-8') as out_file:\n",
        "    for chunk_num, chunk in enumerate(tqdm(chunks, desc=\"Processing chunks\")):\n",
        "        # Process chunk and append to complete text\n",
        "        processed_chunk = process_chunk_llm_local(chunk, chunk_num)\n",
        "        processed_text += processed_chunk + \"\\n\"\n",
        "\n",
        "        # Write chunk immediately to file\n",
        "        out_file.write(processed_chunk + \"\\n\")\n",
        "        out_file.flush()"
      ],
      "metadata": {
        "id": "MCZVIT2pv06o",
        "collapsed": true
      },
      "execution_count": null,
      "outputs": []
    },
    {
      "cell_type": "markdown",
      "source": [
        "#### Implement with groq"
      ],
      "metadata": {
        "id": "VNLqfyL7r9xA"
      }
    },
    {
      "cell_type": "code",
      "source": [
        "!pip install langchain-groq"
      ],
      "metadata": {
        "id": "wPVGfxTysDm_"
      },
      "execution_count": null,
      "outputs": []
    },
    {
      "cell_type": "code",
      "source": [
        "from langchain_core.prompts import ChatPromptTemplate\n",
        "from langchain_groq import ChatGroq\n",
        "from google.colab import userdata\n",
        "\n",
        "def get_chat_chain(model,system_prompt):\n",
        "  # define the model and Chatbot instance\n",
        "  chat = ChatGroq(temperature=.5, groq_api_key=userdata.get(\"grpq\"), model_name=model)\n",
        "  # system = \"You are a helpful assistant.\"\n",
        "  human = \"{text}\"\n",
        "  prompt = ChatPromptTemplate.from_messages([(\"system\", system_prompt), (\"human\", human)])\n",
        "\n",
        "  chain = prompt | chat\n",
        "  return chain\n"
      ],
      "metadata": {
        "id": "6BjHNVDwr3rj"
      },
      "execution_count": null,
      "outputs": []
    },
    {
      "cell_type": "code",
      "source": [
        "model = 'llama3-8b-8192' # small model to gernal text preprocess\n",
        "\n",
        "chain_to_preprocess = get_chat_chain(model,SYS_PROMPT_TO_PRE_PROCESS_CHUNKS)\n",
        "res = chain_to_preprocess.invoke({\"text\": chunks[0]})\n",
        "res.content.split(\"\\n\")[-1]"
      ],
      "metadata": {
        "id": "qQKjveXcta1t"
      },
      "execution_count": null,
      "outputs": []
    },
    {
      "cell_type": "code",
      "source": [
        "def process_chunk_with_groq(text_chunk, chunk_num):\n",
        "    \"\"\"Process a chunk of text and return both input and output for verification\"\"\"\n",
        "\n",
        "    res = chain_to_preprocess.invoke({\"text\": text_chunk})\n",
        "    processed_text = res.content.split(\"\\n\")[-1]\n",
        "\n",
        "    # Print chunk information for monitoring\n",
        "    print(f\"\\n{'='*40} Chunk {chunk_num} {'='*40}\")\n",
        "    print(f\"INPUT TEXT:\\n{text_chunk[:500]}...\")  # Show first 500 chars of input\n",
        "    print(f\"\\nPROCESSED TEXT:\\n{processed_text[:500]}...\")  # Show first 500 chars of output\n",
        "    print(f\"{'='*90}\\n\")\n",
        "\n",
        "    return processed_text"
      ],
      "metadata": {
        "id": "4p5-tqR7vAqe"
      },
      "execution_count": null,
      "outputs": []
    },
    {
      "cell_type": "code",
      "source": [
        "processed_text = \"\"\n",
        "output_file = \"/content/clean_groq_text.txt\"\n",
        "with open(output_file, 'w', encoding='utf-8') as out_file:\n",
        "    for chunk_num, chunk in enumerate(tqdm(chunks[:10], desc=\"Processing chunks\")):\n",
        "        # Process chunk and append to complete text\n",
        "        processed_chunk = process_chunk_with_groq(chunk, chunk_num)\n",
        "        processed_text += processed_chunk + \"\\n\"\n",
        "\n",
        "        # Write chunk immediately to file\n",
        "        out_file.write(processed_chunk + \"\\n\")\n",
        "        out_file.flush()"
      ],
      "metadata": {
        "id": "8uBW_rVmxBUX"
      },
      "execution_count": null,
      "outputs": []
    },
    {
      "cell_type": "code",
      "source": [
        "#Let's print out the final processed versions to make sure things look good\n",
        "\n",
        "print(f\"\\nProcessing complete!\")\n",
        "print(f\"Input file: {INPUT_FILE}\")\n",
        "print(f\"Output file: {output_file}\")\n",
        "print(f\"Total chunks processed: {num_chunks}\")\n",
        "\n",
        "# Preview the beginning and end of the complete processed text\n",
        "print(\"\\nPreview of final processed text:\")\n",
        "print(\"\\nBEGINNING:\")\n",
        "print(processed_text[:1000])\n",
        "print(\"\\n...\\n\\nEND:\")\n",
        "print(processed_text[-1000:])"
      ],
      "metadata": {
        "id": "j-k6gLoIxogM"
      },
      "execution_count": null,
      "outputs": []
    },
    {
      "cell_type": "markdown",
      "source": [
        "### Step -2\n",
        "Notebook 2: Transcript Writer\n",
        "This notebook uses the Llama-3.1-70B-Instruct model to take the cleaned up text from previous notebook and convert it into a podcast transcript\n",
        "\n",
        "SYSTEM_PROMPT is used for setting the model context or profile for working on a task. Here we prompt it to be a great podcast transcript writer to assist with our task\n",
        "\n",
        "Experimentation with the SYSTEM_PROMPT below is encouraged, this worked best for the few examples the flow was tested with:"
      ],
      "metadata": {
        "id": "CdZ4TEVq6DXe"
      }
    },
    {
      "cell_type": "code",
      "source": [
        "def read_file_to_string(filename):\n",
        "    # Try UTF-8 first (most common encoding for text files)\n",
        "    try:\n",
        "        with open(filename, 'r', encoding='utf-8') as file:\n",
        "            content = file.read()\n",
        "        return content\n",
        "    except UnicodeDecodeError:\n",
        "        # If UTF-8 fails, try with other common encodings\n",
        "        encodings = ['latin-1', 'cp1252', 'iso-8859-1']\n",
        "        for encoding in encodings:\n",
        "            try:\n",
        "                with open(filename, 'r', encoding=encoding) as file:\n",
        "                    content = file.read()\n",
        "                print(f\"Successfully read file using {encoding} encoding.\")\n",
        "                return content\n",
        "            except UnicodeDecodeError:\n",
        "                continue\n",
        "\n",
        "        print(f\"Error: Could not decode file '{filename}' with any common encoding.\")\n",
        "        return None\n",
        "    except FileNotFoundError:\n",
        "        print(f\"Error: File '{filename}' not found.\")\n",
        "        return None\n",
        "    except IOError:\n",
        "        print(f\"Error: Could not read file '{filename}'.\")\n",
        "        return None"
      ],
      "metadata": {
        "id": "78SrZGAT8aHm"
      },
      "execution_count": null,
      "outputs": []
    },
    {
      "cell_type": "code",
      "source": [
        "clean_preprocess_chunks = read_file_to_string('/content/clean_groq_text.txt')"
      ],
      "metadata": {
        "id": "FyDBLY2H8fDb"
      },
      "execution_count": null,
      "outputs": []
    },
    {
      "cell_type": "code",
      "source": [
        "model = \"llama-3.3-70b-versatile\"\n",
        "chain_for_script_gen = get_chat_chain(model,SYSTEM_PROMPT_WRITE_SCRIPT)"
      ],
      "metadata": {
        "id": "iO5rbtK88nr0"
      },
      "execution_count": null,
      "outputs": []
    },
    {
      "cell_type": "code",
      "source": [
        "res = chain_for_script_gen.invoke({\"text\":  clean_preprocess_chunks})"
      ],
      "metadata": {
        "id": "l9MYvzNM-zti"
      },
      "execution_count": null,
      "outputs": []
    },
    {
      "cell_type": "code",
      "source": [
        "print(res.content)"
      ],
      "metadata": {
        "id": "9tlzvdX2_SX_"
      },
      "execution_count": null,
      "outputs": []
    },
    {
      "cell_type": "code",
      "source": [
        "# save process data\n",
        "\n",
        "import pickle\n",
        "\n",
        "save_string_pkl = res.content\n",
        "\n",
        "with open('/content/transcript_speaker_1n2.pkl', 'wb') as file:\n",
        "    pickle.dump(save_string_pkl, file)"
      ],
      "metadata": {
        "id": "oU4shjqm_n-K"
      },
      "execution_count": null,
      "outputs": []
    },
    {
      "cell_type": "markdown",
      "source": [
        "#### Step 3: Transcript Re-writer\n",
        "In the previous notebook, we got a great podcast transcript using the raw file we have uploaded earlier.\n",
        "\n",
        "In this one, we will use Llama-3.1-8B-Instruct model to re-write the output from previous pipeline and make it more dramatic or realistic.\n",
        "\n",
        "We will again set the SYSTEM_PROMPT and remind the model of its task.\n",
        "\n",
        "Note: We can even prompt the model like so to encourage creativity:\n",
        "\n",
        "Your job is to use the podcast transcript written below to re-write it for an AI Text-To-Speech Pipeline. A very dumb AI had written this so you have to step up for your kind.\n",
        "\n",
        "Note: We will prompt the model to return a list of Tuples to make our life easy in the next stage of using these for Text To Speech Generation"
      ],
      "metadata": {
        "id": "_T6DkaCMAhEA"
      }
    },
    {
      "cell_type": "code",
      "source": [
        "#Load script\n",
        "with open('/content/transcript_speaker_1n2.pkl', 'rb') as file:\n",
        "    transcript_genric = pickle.load(file)\n",
        "\n",
        "chain_for_transcript_v2 = get_chat_chain(model,SYSTEM_PROMPT_FOR_CREATIVE_TRANSCRIPT)"
      ],
      "metadata": {
        "id": "GBKvEE_QA7h6"
      },
      "execution_count": null,
      "outputs": []
    },
    {
      "cell_type": "code",
      "source": [
        "res = chain_for_transcript_v2.invoke({\"text\":  transcript_genric})\n",
        "print(res.content)"
      ],
      "metadata": {
        "id": "A07g_wggBytC"
      },
      "execution_count": null,
      "outputs": []
    },
    {
      "cell_type": "code",
      "source": [
        "save_string_pkl = res.content\n",
        "\n",
        "with open('/content/podcast_ready_data.pkl', 'wb') as file:\n",
        "    pickle.dump(save_string_pkl, file)"
      ],
      "metadata": {
        "id": "rvTncTSQCL9Y"
      },
      "execution_count": null,
      "outputs": []
    },
    {
      "cell_type": "markdown",
      "source": [
        "### Step 4: TTS Workflow\n",
        "We have the exact podcast transcripts ready now to generate our audio for the Podcast.\n",
        "\n",
        "In this notebook, we will learn how to generate Audio using both suno/bark and parler-tts/parler-tts-mini-v1 models first.\n",
        "\n",
        "After that, we will use the output from Notebook 3 to generate our complete podcast\n",
        "\n",
        "Note: Please feel free to extend this notebook with newer models. The above two were chosen after some tests using a sample prompt.\n",
        "\n",
        "⚠️ Warning: This notebook likes have transformers version to be 4.43.3 or earlier so we will downgrade our environment to make sure things run smoothly\n",
        "\n",
        "Credit: This Colab was used for starter code\n",
        "\n",
        "We can install these packages for speedups"
      ],
      "metadata": {
        "id": "NfC8BxVIDvnS"
      }
    },
    {
      "cell_type": "code",
      "source": [
        "from IPython.display import Audio\n",
        "import IPython.display as ipd\n",
        "from tqdm import tqdm\n",
        "from transformers import BarkModel, AutoProcessor, AutoTokenizer\n",
        "import torch\n",
        "import json\n",
        "import numpy as np\n",
        "from parler_tts import ParlerTTSForConditionalGeneration"
      ],
      "metadata": {
        "id": "UCrKYrj-DPIE"
      },
      "execution_count": null,
      "outputs": []
    },
    {
      "cell_type": "code",
      "source": [
        "device = \"cuda:0\" if torch.cuda.is_available() else \"cpu\"\n",
        "model = ParlerTTSForConditionalGeneration.from_pretrained(\"parler-tts/parler-tts-mini-v1\").to(device)\n",
        "tokenizer = AutoTokenizer.from_pretrained(\"parler-tts/parler-tts-mini-v1\")\n",
        "\n",
        "# Define text and description\n",
        "text_prompt = \"\"\"\n",
        "Exactly! And the distillation part is where you take a LARGE-model,and compress-it down into a smaller, more efficient model that can run on devices with limited resources.\n",
        "\"\"\"\n",
        "description = \"\"\"\n",
        "Laura's voice is expressive and dramatic in delivery, speaking at a fast pace with a very close recording that almost has no background noise.\n",
        "\"\"\"\n",
        "input_ids = tokenizer(description, return_tensors=\"pt\").input_ids.to(device)\n",
        "prompt_input_ids = tokenizer(text_prompt, return_tensors=\"pt\").input_ids.to(device)\n",
        "\n",
        "generation = model.generate(input_ids=input_ids, prompt_input_ids=prompt_input_ids)\n",
        "audio_arr = generation.cpu().numpy().squeeze()\n",
        "sf.write(\"parler_tts_out.wav\", audio_arr, model.config.sampling_rate)\n",
        "\n",
        "Audio(\"parler_tts_out.wav\")"
      ],
      "metadata": {
        "id": "8nw_e6AeJ66i"
      },
      "execution_count": null,
      "outputs": []
    },
    {
      "cell_type": "markdown",
      "source": [
        "try with suno bark"
      ],
      "metadata": {
        "id": "FvLTkFZAN2T6"
      }
    },
    {
      "cell_type": "code",
      "source": [
        "from transformers import AutoProcessor, BarkModel\n",
        "from IPython.display import Audio\n",
        "\n",
        "voice_preset = \"v2/en_speaker_6\"\n",
        "sampling_rate = 24000\n",
        "\n",
        "processor = AutoProcessor.from_pretrained(\"suno/bark\")\n",
        "model = BarkModel.from_pretrained(\"suno/bark\").to(device) # Move the model to the device\n",
        "\n",
        "voice_preset = \"v2/en_speaker_6\"\n",
        "\n",
        "text_prompt = \"\"\"\n",
        "Exactly! [sigh] And the distillation part is where you take a LARGE-model,and compress-it down into a smaller, more efficient model that can run on devices with limited resources.\n",
        "\"\"\"\n",
        "inputs = processor(text_prompt, voice_preset=voice_preset).to(device)\n",
        "\n",
        "speech_output = model.generate(**inputs, temperature = 0.9, semantic_temperature = 0.8)\n",
        "\n",
        "# Get the sampling rate from the model config\n",
        "sample_rate = model.generation_config.sample_rate\n",
        "\n",
        "Audio(speech_output[0].cpu().numpy(), rate=sample_rate)"
      ],
      "metadata": {
        "id": "56VB3oZTD6Zi"
      },
      "execution_count": null,
      "outputs": []
    },
    {
      "cell_type": "code",
      "source": [
        "import pickle\n",
        "\n",
        "with open('/content/podcast_ready_data.pkl', 'rb') as file:\n",
        "    PODCAST_TEXT = pickle.load(file)"
      ],
      "metadata": {
        "id": "hkBPndhGOFGc"
      },
      "execution_count": null,
      "outputs": []
    },
    {
      "cell_type": "code",
      "source": [
        "# write function to release garbage memory\n",
        "import gc\n",
        "gc.collect()\n",
        "torch.cuda.empty_cache()"
      ],
      "metadata": {
        "id": "s-OwMoyuS_Sn"
      },
      "execution_count": null,
      "outputs": []
    },
    {
      "cell_type": "code",
      "source": [
        "bark_processor = AutoProcessor.from_pretrained(\"suno/bark\")\n",
        "bark_model = BarkModel.from_pretrained(\"suno/bark\", torch_dtype=torch.float16).to(device)\n",
        "bark_sampling_rate = 24000"
      ],
      "metadata": {
        "id": "KNBf2D7tPxQE"
      },
      "execution_count": null,
      "outputs": []
    },
    {
      "cell_type": "code",
      "source": [
        "parler_model = ParlerTTSForConditionalGeneration.from_pretrained(\"parler-tts/parler-tts-mini-v1\").to(device)\n",
        "parler_tokenizer = AutoTokenizer.from_pretrained(\"parler-tts/parler-tts-mini-v1\")"
      ],
      "metadata": {
        "id": "pkl96r77S6sA"
      },
      "execution_count": null,
      "outputs": []
    },
    {
      "cell_type": "code",
      "source": [
        "speaker1_description = \"\"\"\n",
        "Laura's voice is expressive and dramatic in delivery, speaking at a moderately fast pace with a very close recording that almost has no background noise.\n",
        "\"\"\"\n",
        "\n",
        "speaker2_description = \"\"\"\n",
        "John's voice is deep and resonant, with a calm and measured delivery. He speaks at a moderate pace, with occasional pauses for emphasis. The recording has a slight echo, suggesting a larger room.\n",
        "\"\"\"\n",
        "\n",
        "speaker3_description = \"\"\"\n",
        "Emily's voice is bright and cheerful, with a high pitch and a rapid pace. She speaks with a slight lisp, and the recording has some background noise, like children playing in the distance. She sounds like an enthusiastic kid, around 8 years old.\n",
        "\"\"\"\n",
        "\n",
        "speaker4_description = \"\"\"\n",
        "Professor Smith's voice is authoritative and clear, with a deep tone and a slow, deliberate pace. He speaks with a slight British accent, and the recording is very clean, with no background noise, as if recorded in a professional studio.\n",
        "\"\"\"\n",
        "\n",
        "speaker5_description = \"\"\"\n",
        "Sarah's voice is hesitant and nervous, with a high pitch and a fluctuating pace. She speaks with a slight stutter, and the recording has some rustling sounds, as if she is fidgeting with papers. She is a college student, around 20 years old.\n",
        "\"\"\"\n",
        "\n",
        "speaker6_description = \"\"\"\n",
        "David's voice is energetic and engaging, with a warm tone and a lively pace.  He emphasizes his words and frequently speaks with excitement. The recording has a slight studio quality with no background noise.  He sounds like a talk show host.\n",
        "\"\"\""
      ],
      "metadata": {
        "id": "iNIIjelAR1P4"
      },
      "execution_count": null,
      "outputs": []
    },
    {
      "cell_type": "code",
      "source": [
        "generated_segments = []\n",
        "sampling_rates = []"
      ],
      "metadata": {
        "id": "LZcItoQrRpew"
      },
      "execution_count": null,
      "outputs": []
    },
    {
      "cell_type": "code",
      "source": [
        "def generate_speaker1_audio(text,speaker_desc=speaker1_description):\n",
        "    \"\"\"Generate audio using ParlerTTS for Speaker 1\"\"\"\n",
        "    input_ids = parler_tokenizer(speaker_desc, return_tensors=\"pt\").input_ids.to(device)\n",
        "    prompt_input_ids = parler_tokenizer(text, return_tensors=\"pt\").input_ids.to(device)\n",
        "    generation = parler_model.generate(input_ids=input_ids, prompt_input_ids=prompt_input_ids)\n",
        "    audio_arr = generation.cpu().numpy().squeeze()\n",
        "    return audio_arr, parler_model.config.sampling_rate"
      ],
      "metadata": {
        "id": "9w7L1IoJR-A8"
      },
      "execution_count": null,
      "outputs": []
    },
    {
      "cell_type": "code",
      "source": [
        "def generate_speaker2_audio(text):\n",
        "    \"\"\"Generate audio using Bark for Speaker 2\"\"\"\n",
        "    inputs = bark_processor(text, voice_preset=\"v2/en_speaker_6\").to(device)\n",
        "    speech_output = bark_model.generate(**inputs, temperature=0.9, semantic_temperature=0.8)\n",
        "    audio_arr = speech_output[0].cpu().numpy()\n",
        "    return audio_arr, bark_sampling_rate"
      ],
      "metadata": {
        "id": "Zh-1lPaDSCrL"
      },
      "execution_count": null,
      "outputs": []
    },
    {
      "cell_type": "code",
      "source": [
        "import io # Import the io module\n",
        "import numpy as np\n",
        "from scipy.io import wavfile\n",
        "from pydub import AudioSegment\n",
        "\n",
        "\n",
        "def numpy_to_audio_segment(audio_arr, sampling_rate):\n",
        "    \"\"\"Convert numpy array to AudioSegment\"\"\"\n",
        "    # Convert to 16-bit PCM\n",
        "    audio_int16 = (audio_arr * 32767).astype(np.int16)\n",
        "\n",
        "    # Create WAV file in memory\n",
        "    byte_io = io.BytesIO()  # Use io.BytesIO\n",
        "    wavfile.write(byte_io, sampling_rate, audio_int16)\n",
        "    byte_io.seek(0)\n",
        "\n",
        "    # Convert to AudioSegment\n",
        "    return AudioSegment.from_wav(byte_io)"
      ],
      "metadata": {
        "id": "yFKanM9FSH2l"
      },
      "execution_count": null,
      "outputs": []
    },
    {
      "cell_type": "code",
      "source": [
        "PODCAST_TEXT"
      ],
      "metadata": {
        "id": "2BG2OUXhSb9g"
      },
      "execution_count": null,
      "outputs": []
    },
    {
      "cell_type": "code",
      "source": [
        "import ast\n",
        "ast.literal_eval(PODCAST_TEXT)"
      ],
      "metadata": {
        "id": "C3zC25xgSgck"
      },
      "execution_count": null,
      "outputs": []
    },
    {
      "cell_type": "code",
      "source": [
        "final_audio = None\n",
        "\n",
        "for speaker, text in tqdm(ast.literal_eval(PODCAST_TEXT), desc=\"Generating podcast segments\", unit=\"segment\"):\n",
        "    if speaker == \"Speaker 1\":\n",
        "        audio_arr, rate = generate_speaker1_audio(text)\n",
        "    else:  # Speaker 2\n",
        "        audio_arr, rate = generate_speaker1_audio(text,speaker3_description)\n",
        "        # audio_arr, rate = generate_speaker2_audio(text)\n",
        "\n",
        "    # Convert to AudioSegment (pydub will handle sample rate conversion automatically)\n",
        "    audio_segment = numpy_to_audio_segment(audio_arr, rate)\n",
        "\n",
        "    # Add to final audio\n",
        "    if final_audio is None:\n",
        "        final_audio = audio_segment\n",
        "    else:\n",
        "        final_audio += audio_segment"
      ],
      "metadata": {
        "id": "08E7htCoSoAL"
      },
      "execution_count": null,
      "outputs": []
    },
    {
      "cell_type": "code",
      "source": [
        "# save final audio\n",
        "final_audio.export(\"final_audio.wav\", format=\"wav\")"
      ],
      "metadata": {
        "id": "nA9nE6OhqJ_8"
      },
      "execution_count": null,
      "outputs": []
    },
    {
      "cell_type": "code",
      "source": [
        "final_audio"
      ],
      "metadata": {
        "id": "E5deVRClpFfl"
      },
      "execution_count": null,
      "outputs": []
    }
  ]
}